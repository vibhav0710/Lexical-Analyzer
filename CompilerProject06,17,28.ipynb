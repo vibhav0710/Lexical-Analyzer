{
  "nbformat": 4,
  "nbformat_minor": 0,
  "metadata": {
    "colab": {
      "name": "CompilerProject06,17,28.ipynb",
      "provenance": []
    },
    "kernelspec": {
      "name": "python3",
      "display_name": "Python 3"
    },
    "language_info": {
      "name": "python"
    }
  },
  "cells": [
    {
      "cell_type": "code",
      "execution_count": null,
      "metadata": {
        "colab": {
          "base_uri": "https://localhost:8080/"
        },
        "id": "R3rbryh46beX",
        "outputId": "128dea81-07c0-4bec-f220-5d3e69d9c5b3"
      },
      "outputs": [
        {
          "output_type": "stream",
          "name": "stdout",
          "text": [
            "Cloning into 'lexical-analyzer'...\n",
            "remote: Enumerating objects: 3, done.\u001b[K\n",
            "remote: Counting objects: 100% (3/3), done.\u001b[K\n",
            "remote: Compressing objects: 100% (2/2), done.\u001b[K\n",
            "remote: Total 3 (delta 0), reused 0 (delta 0), pack-reused 0\u001b[K\n",
            "Unpacking objects: 100% (3/3), done.\n"
          ]
        }
      ],
      "source": [
        "!git clone https://github.com/vibhav0710/lexical-analyzer"
      ]
    },
    {
      "cell_type": "code",
      "source": [
        "cd lexical-analyzer/"
      ],
      "metadata": {
        "colab": {
          "base_uri": "https://localhost:8080/"
        },
        "id": "f_lMCNx965-m",
        "outputId": "dfaa5bb6-2e71-4a6b-a056-af5fda5b82b4"
      },
      "execution_count": null,
      "outputs": [
        {
          "output_type": "stream",
          "name": "stdout",
          "text": [
            "/content/lexical-analyzer\n"
          ]
        }
      ]
    },
    {
      "cell_type": "code",
      "source": [
        "!python Principal.py"
      ],
      "metadata": {
        "colab": {
          "base_uri": "https://localhost:8080/"
        },
        "id": "CkBxif-l7FdI",
        "outputId": "ba59a5fb-92ed-41bf-db3b-93f9ce2e13ac"
      },
      "execution_count": null,
      "outputs": [
        {
          "output_type": "stream",
          "name": "stdout",
          "text": [
            "Token = INT, Lexeme = 'int', Row = 1, Column = 0\n",
            "Token = MAIN, Lexeme = 'main', Row = 1, Column = 4\n",
            "Token = LBRACKET, Lexeme = '(', Row = 1, Column = 8\n",
            "Token = RBRACKET, Lexeme = ')', Row = 1, Column = 9\n",
            "Token = LBRACE, Lexeme = '{', Row = 2, Column = 0\n",
            "Token = FLOAT, Lexeme = 'float', Row = 3, Column = 4\n",
            "Token = ID, Lexeme = 'a', Row = 3, Column = 10\n",
            "Token = PCOMMA, Lexeme = ';', Row = 3, Column = 11\n",
            "Token = ID, Lexeme = 'a', Row = 4, Column = 4\n",
            "Token = ATTR, Lexeme = '=', Row = 4, Column = 6\n",
            "Token = FLOAT_CONST, Lexeme = '1.1', Row = 4, Column = 8\n",
            "Token = PCOMMA, Lexeme = ';', Row = 4, Column = 11\n",
            "Token = INT, Lexeme = 'int', Row = 5, Column = 4\n",
            "Token = ID, Lexeme = 'i', Row = 5, Column = 8\n",
            "Token = COMMA, Lexeme = ',', Row = 5, Column = 9\n",
            "Token = ID, Lexeme = 'inc', Row = 5, Column = 11\n",
            "Token = COMMA, Lexeme = ',', Row = 5, Column = 14\n",
            "Token = ID, Lexeme = 'j', Row = 5, Column = 16\n",
            "Token = PCOMMA, Lexeme = ';', Row = 5, Column = 17\n",
            "Token = ID, Lexeme = 'i', Row = 6, Column = 4\n",
            "Token = ATTR, Lexeme = '=', Row = 6, Column = 6\n",
            "Token = INTEGER_CONST, Lexeme = '0', Row = 6, Column = 8\n",
            "Token = PCOMMA, Lexeme = ';', Row = 6, Column = 9\n",
            "Token = ID, Lexeme = 'inc', Row = 7, Column = 4\n",
            "Token = ATTR, Lexeme = '=', Row = 7, Column = 8\n",
            "Token = INTEGER_CONST, Lexeme = '2', Row = 7, Column = 10\n",
            "Token = PCOMMA, Lexeme = ';', Row = 7, Column = 11\n",
            "Token = READ, Lexeme = 'read', Row = 8, Column = 4\n",
            "Token = ID, Lexeme = 'j', Row = 8, Column = 9\n",
            "Token = PCOMMA, Lexeme = ';', Row = 8, Column = 10\n",
            "Token = WHILE, Lexeme = 'while', Row = 10, Column = 4\n",
            "Token = LBRACKET, Lexeme = '(', Row = 10, Column = 10\n",
            "Token = ID, Lexeme = 'i', Row = 10, Column = 11\n",
            "Token = LT, Lexeme = '<', Row = 10, Column = 13\n",
            "Token = ID, Lexeme = 'j', Row = 10, Column = 15\n",
            "Token = RBRACKET, Lexeme = ')', Row = 10, Column = 16\n",
            "Token = LBRACE, Lexeme = '{', Row = 11, Column = 4\n",
            "Token = ID, Lexeme = 'i', Row = 12, Column = 8\n",
            "Token = ATTR, Lexeme = '=', Row = 12, Column = 10\n",
            "Token = ID, Lexeme = 'i', Row = 12, Column = 12\n",
            "Token = PLUS, Lexeme = '+', Row = 12, Column = 14\n",
            "Token = ID, Lexeme = 'inc', Row = 12, Column = 16\n",
            "Token = PCOMMA, Lexeme = ';', Row = 12, Column = 19\n",
            "Token = ID, Lexeme = 'a', Row = 13, Column = 8\n",
            "Token = ATTR, Lexeme = '=', Row = 13, Column = 10\n",
            "Token = ID, Lexeme = 'a', Row = 13, Column = 12\n",
            "Token = MULT, Lexeme = '*', Row = 13, Column = 13\n",
            "Token = ID, Lexeme = 'i', Row = 13, Column = 14\n",
            "Token = PCOMMA, Lexeme = ';', Row = 13, Column = 15\n",
            "Token = RBRACE, Lexeme = '}', Row = 14, Column = 4\n",
            "Token = IF, Lexeme = 'if', Row = 16, Column = 4\n",
            "Token = LBRACKET, Lexeme = '(', Row = 16, Column = 7\n",
            "Token = ID, Lexeme = 'a', Row = 16, Column = 8\n",
            "Token = GT, Lexeme = '>', Row = 16, Column = 10\n",
            "Token = FLOAT_CONST, Lexeme = '10.0', Row = 16, Column = 12\n",
            "Token = RBRACKET, Lexeme = ')', Row = 16, Column = 16\n",
            "Token = LBRACE, Lexeme = '{', Row = 17, Column = 4\n",
            "Token = PRINT, Lexeme = 'print', Row = 18, Column = 8\n",
            "Token = LBRACKET, Lexeme = '(', Row = 18, Column = 13\n",
            "Token = ID, Lexeme = 'a', Row = 18, Column = 14\n",
            "Token = PLUS, Lexeme = '+', Row = 18, Column = 16\n",
            "Token = ID, Lexeme = 'i', Row = 18, Column = 18\n",
            "Token = RBRACKET, Lexeme = ')', Row = 18, Column = 19\n",
            "Token = PCOMMA, Lexeme = ';', Row = 18, Column = 20\n",
            "Token = RBRACE, Lexeme = '}', Row = 19, Column = 4\n",
            "Token = RBRACE, Lexeme = '}', Row = 20, Column = 0\n",
            "\n",
            "Recognize Tokens:  ['INT', 'MAIN', 'LBRACKET', 'RBRACKET', 'LBRACE', 'FLOAT', 'ID', 'PCOMMA', 'ID', 'ATTR', 'FLOAT_CONST', 'PCOMMA', 'INT', 'ID', 'COMMA', 'ID', 'COMMA', 'ID', 'PCOMMA', 'ID', 'ATTR', 'INTEGER_CONST', 'PCOMMA', 'ID', 'ATTR', 'INTEGER_CONST', 'PCOMMA', 'READ', 'ID', 'PCOMMA', 'WHILE', 'LBRACKET', 'ID', 'LT', 'ID', 'RBRACKET', 'LBRACE', 'ID', 'ATTR', 'ID', 'PLUS', 'ID', 'PCOMMA', 'ID', 'ATTR', 'ID', 'MULT', 'ID', 'PCOMMA', 'RBRACE', 'IF', 'LBRACKET', 'ID', 'GT', 'FLOAT_CONST', 'RBRACKET', 'LBRACE', 'PRINT', 'LBRACKET', 'ID', 'PLUS', 'ID', 'RBRACKET', 'PCOMMA', 'RBRACE', 'RBRACE']\n"
          ]
        }
      ]
    }
  ]
}